{
 "cells": [
  {
   "cell_type": "code",
   "execution_count": 1,
   "metadata": {
    "collapsed": true,
    "pycharm": {
     "name": "#%%\n"
    }
   },
   "outputs": [],
   "source": [
    "%matplotlib inline"
   ]
  },
  {
   "cell_type": "code",
   "execution_count": 2,
   "outputs": [],
   "source": [
    "import tensorflow as tf\n",
    "from tensorflow import keras\n",
    "from keras.utils.np_utils import to_categorical\n",
    "import numpy as np\n",
    "import matplotlib.pyplot as plt\n",
    "from keras.preprocessing.image import img_to_array, load_img"
   ],
   "metadata": {
    "collapsed": false,
    "pycharm": {
     "name": "#%%\n"
    }
   }
  },
  {
   "cell_type": "markdown",
   "source": [
    "### Load Data"
   ],
   "metadata": {
    "collapsed": false,
    "pycharm": {
     "name": "#%% md\n"
    }
   }
  },
  {
   "cell_type": "code",
   "execution_count": 11,
   "outputs": [
    {
     "data": {
      "text/plain": "<Figure size 432x288 with 1 Axes>",
      "image/png": "[encoded data removed]"
     },
     "metadata": {
      "needs_background": "light"
     },
     "output_type": "display_data"
    },
    {
     "name": "stdout",
     "output_type": "stream",
     "text": [
      "0\n"
     ]
    }
   ],
   "source": [
    "mnist = keras.datasets.mnist\n",
    "(train_images, train_labels), (test_images, test_labels) = mnist.load_data()\n",
    "\n",
    "plt.imshow(train_images[1].reshape(28, 28, 1))\n",
    "plt.show()\n",
    "print('Classification:', train_labels[1])"
   ],
   "metadata": {
    "collapsed": false,
    "pycharm": {
     "name": "#%%\n"
    }
   }
  },
  {
   "cell_type": "markdown",
   "source": [
    "### Preprocess data"
   ],
   "metadata": {
    "collapsed": false,
    "pycharm": {
     "name": "#%% md\n"
    }
   }
  },
  {
   "cell_type": "code",
   "execution_count": 4,
   "outputs": [
    {
     "name": "stdout",
     "output_type": "stream",
     "text": [
      "(60000, 28, 28, 1)\n"
     ]
    }
   ],
   "source": [
    "train_images = train_images.reshape((60000, 28, 28, 1))\n",
    "train_images = train_images.astype('float32') / 255\n",
    "\n",
    "test_images = test_images.reshape((10000, 28, 28, 1))\n",
    "test_images = test_images.astype('float32') / 255\n",
    "print(train_images.shape)\n",
    "\n",
    "# one-hot encode labels\n",
    "# zero,\t  one,\t    two\n",
    "# 1,\t\t0,\t\t0\n",
    "# 0,\t\t1,\t\t0\n",
    "# 0,\t\t0,\t\t1\n",
    "train_labels = to_categorical(train_labels, num_classes=10)\n",
    "test_labels = to_categorical(test_labels, num_classes=10)"
   ],
   "metadata": {
    "collapsed": false,
    "pycharm": {
     "name": "#%%\n"
    }
   }
  },
  {
   "cell_type": "markdown",
   "source": [
    "### Create Model"
   ],
   "metadata": {
    "collapsed": false,
    "pycharm": {
     "name": "#%% md\n"
    }
   }
  },
  {
   "cell_type": "code",
   "execution_count": 5,
   "outputs": [
    {
     "name": "stderr",
     "output_type": "stream",
     "text": [
      "2022-04-22 08:23:24.609473: I tensorflow/stream_executor/cuda/cuda_gpu_executor.cc:936] successful NUMA node read from SysFS had negative value (-1), but there must be at least one NUMA node, so returning NUMA node zero\n",
      "2022-04-22 08:23:24.613773: I tensorflow/stream_executor/cuda/cuda_gpu_executor.cc:936] successful NUMA node read from SysFS had negative value (-1), but there must be at least one NUMA node, so returning NUMA node zero\n",
      "2022-04-22 08:23:24.613952: I tensorflow/stream_executor/cuda/cuda_gpu_executor.cc:936] successful NUMA node read from SysFS had negative value (-1), but there must be at least one NUMA node, so returning NUMA node zero\n",
      "2022-04-22 08:23:24.614792: I tensorflow/core/platform/cpu_feature_guard.cc:151] This TensorFlow binary is optimized with oneAPI Deep Neural Network Library (oneDNN) to use the following CPU instructions in performance-critical operations:  AVX2 FMA\n",
      "To enable them in other operations, rebuild TensorFlow with the appropriate compiler flags.\n",
      "2022-04-22 08:23:24.615797: I tensorflow/stream_executor/cuda/cuda_gpu_executor.cc:936] successful NUMA node read from SysFS had negative value (-1), but there must be at least one NUMA node, so returning NUMA node zero\n",
      "2022-04-22 08:23:24.615909: I tensorflow/stream_executor/cuda/cuda_gpu_executor.cc:936] successful NUMA node read from SysFS had negative value (-1), but there must be at least one NUMA node, so returning NUMA node zero\n",
      "2022-04-22 08:23:24.616001: I tensorflow/stream_executor/cuda/cuda_gpu_executor.cc:936] successful NUMA node read from SysFS had negative value (-1), but there must be at least one NUMA node, so returning NUMA node zero\n",
      "2022-04-22 08:23:24.920692: I tensorflow/stream_executor/cuda/cuda_gpu_executor.cc:936] successful NUMA node read from SysFS had negative value (-1), but there must be at least one NUMA node, so returning NUMA node zero\n",
      "2022-04-22 08:23:24.920820: I tensorflow/stream_executor/cuda/cuda_gpu_executor.cc:936] successful NUMA node read from SysFS had negative value (-1), but there must be at least one NUMA node, so returning NUMA node zero\n",
      "2022-04-22 08:23:24.920918: I tensorflow/stream_executor/cuda/cuda_gpu_executor.cc:936] successful NUMA node read from SysFS had negative value (-1), but there must be at least one NUMA node, so returning NUMA node zero\n",
      "2022-04-22 08:23:24.921006: I tensorflow/core/common_runtime/gpu/gpu_device.cc:1525] Created device /job:localhost/replica:0/task:0/device:GPU:0 with 20244 MB memory:  -> device: 0, name: NVIDIA GeForce RTX 3090, pci bus id: 0000:0a:00.0, compute capability: 8.6\n"
     ]
    }
   ],
   "source": [
    "# Model with three layers. input flattened layer, 25 nodes hidden layer, and 10 nodes output layer\n",
    "model = keras.models.Sequential()\n",
    "model.add(keras.layers.Flatten(input_shape=(28, 28)))\n",
    "model.add(keras.layers.Dense(25, activation='relu'))\n",
    "model.add(keras.layers.Dense(10, activation='softmax'))"
   ],
   "metadata": {
    "collapsed": false,
    "pycharm": {
     "name": "#%%\n"
    }
   }
  },
  {
   "cell_type": "markdown",
   "source": [
    "### Train Model"
   ],
   "metadata": {
    "collapsed": false,
    "pycharm": {
     "name": "#%% md\n"
    }
   }
  },
  {
   "cell_type": "code",
   "execution_count": 6,
   "outputs": [
    {
     "name": "stdout",
     "output_type": "stream",
     "text": [
      "Epoch 1/20\n",
      "  139/48000 [..............................] - ETA: 52s - loss: 2.0918 - acc: 0.2590"
     ]
    },
    {
     "name": "stderr",
     "output_type": "stream",
     "text": [
      "2022-04-22 08:27:42.086672: I tensorflow/stream_executor/cuda/cuda_blas.cc:1786] TensorFloat-32 will be used for the matrix multiplication. This will only be logged once.\n"
     ]
    },
    {
     "name": "stdout",
     "output_type": "stream",
     "text": [
      "48000/48000 [==============================] - 61s 1ms/step - loss: 0.2973 - acc: 0.9126 - val_loss: 0.1955 - val_acc: 0.9447\n",
      "Epoch 2/20\n",
      "48000/48000 [==============================] - 59s 1ms/step - loss: 0.1837 - acc: 0.9477 - val_loss: 0.1725 - val_acc: 0.9513\n",
      "Epoch 3/20\n",
      "48000/48000 [==============================] - 60s 1ms/step - loss: 0.1553 - acc: 0.9563 - val_loss: 0.1993 - val_acc: 0.9463\n",
      "Epoch 4/20\n",
      "48000/48000 [==============================] - 58s 1ms/step - loss: 0.1411 - acc: 0.9606 - val_loss: 0.1720 - val_acc: 0.9558\n",
      "Epoch 5/20\n",
      "48000/48000 [==============================] - 58s 1ms/step - loss: 0.1295 - acc: 0.9639 - val_loss: 0.1704 - val_acc: 0.9581\n",
      "Epoch 6/20\n",
      "48000/48000 [==============================] - 58s 1ms/step - loss: 0.1231 - acc: 0.9655 - val_loss: 0.1991 - val_acc: 0.9540\n",
      "Epoch 7/20\n",
      "48000/48000 [==============================] - 58s 1ms/step - loss: 0.1166 - acc: 0.9681 - val_loss: 0.1713 - val_acc: 0.9607\n",
      "Epoch 8/20\n",
      "48000/48000 [==============================] - 60s 1ms/step - loss: 0.1093 - acc: 0.9701 - val_loss: 0.1816 - val_acc: 0.9582\n",
      "Epoch 9/20\n",
      "48000/48000 [==============================] - 60s 1ms/step - loss: 0.1071 - acc: 0.9718 - val_loss: 0.2115 - val_acc: 0.9563\n",
      "Epoch 10/20\n",
      "48000/48000 [==============================] - 60s 1ms/step - loss: 0.1003 - acc: 0.9724 - val_loss: 0.1984 - val_acc: 0.9615\n",
      "Epoch 11/20\n",
      "48000/48000 [==============================] - 60s 1ms/step - loss: 0.0979 - acc: 0.9732 - val_loss: 0.2032 - val_acc: 0.9614\n",
      "Epoch 12/20\n",
      "48000/48000 [==============================] - 60s 1ms/step - loss: 0.0983 - acc: 0.9740 - val_loss: 0.2160 - val_acc: 0.9588\n",
      "Epoch 13/20\n",
      "48000/48000 [==============================] - 59s 1ms/step - loss: 0.0972 - acc: 0.9752 - val_loss: 0.2448 - val_acc: 0.9584\n",
      "Epoch 14/20\n",
      "48000/48000 [==============================] - 58s 1ms/step - loss: 0.0922 - acc: 0.9751 - val_loss: 0.2284 - val_acc: 0.9578\n",
      "Epoch 15/20\n",
      "48000/48000 [==============================] - 58s 1ms/step - loss: 0.0914 - acc: 0.9762 - val_loss: 0.2646 - val_acc: 0.9545\n",
      "Epoch 16/20\n",
      "48000/48000 [==============================] - 59s 1ms/step - loss: 0.0869 - acc: 0.9763 - val_loss: 0.2300 - val_acc: 0.9579\n",
      "Epoch 17/20\n",
      "48000/48000 [==============================] - 59s 1ms/step - loss: 0.0861 - acc: 0.9772 - val_loss: 0.2350 - val_acc: 0.9607\n",
      "Epoch 18/20\n",
      "48000/48000 [==============================] - 58s 1ms/step - loss: 0.0845 - acc: 0.9777 - val_loss: 0.2818 - val_acc: 0.9556\n",
      "Epoch 19/20\n",
      "48000/48000 [==============================] - 59s 1ms/step - loss: 0.0830 - acc: 0.9785 - val_loss: 0.2769 - val_acc: 0.9553\n",
      "Epoch 20/20\n",
      "48000/48000 [==============================] - 57s 1ms/step - loss: 0.0819 - acc: 0.9792 - val_loss: 0.2634 - val_acc: 0.9611\n"
     ]
    }
   ],
   "source": [
    "EPOCHS = 20\n",
    "BATCH_SIZE = 1\n",
    "\n",
    "# loss function is the same as error function. Mean squared error is a common one, but categorical crossentropy is a good one here as we are classifying into 10 bins\n",
    "# optimizers are used to determine the learning rate\n",
    "# we are only interested in accuracy but more metrics can be followed\n",
    "model.compile(loss='categorical_crossentropy', optimizer='adam', metrics=['acc'])\n",
    "\n",
    "# validation is important to let us know if the training is effective and when it is overfitting\n",
    "history = model.fit(train_images, train_labels, epochs=EPOCHS, batch_size=BATCH_SIZE, validation_split=0.2,\n",
    "                    verbose=1, shuffle=True)\n",
    "\n",
    "# save the model for reuse later\n",
    "model.save('my_model.h5')"
   ],
   "metadata": {
    "collapsed": false,
    "pycharm": {
     "name": "#%%\n"
    }
   }
  },
  {
   "cell_type": "markdown",
   "source": [
    "### Plot results"
   ],
   "metadata": {
    "collapsed": false,
    "pycharm": {
     "name": "#%% md\n"
    }
   }
  },
  {
   "cell_type": "code",
   "execution_count": 7,
   "outputs": [
    {
     "data": {
      "text/plain": "<Figure size 432x288 with 1 Axes>",
      "image/png": "[encoded data removed]"
     },
     "metadata": {
      "needs_background": "light"
     },
     "output_type": "display_data"
    },
    {
     "data": {
      "text/plain": "<Figure size 432x288 with 1 Axes>",
      "image/png": "[encoded data removed]"
     },
     "metadata": {
      "needs_background": "light"
     },
     "output_type": "display_data"
    }
   ],
   "source": [
    "acc = history.history['acc']\n",
    "val_acc = history.history['val_acc']\n",
    "loss = history.history['loss']\n",
    "val_loss = history.history['val_loss']\n",
    "\n",
    "epochs = range(1, len(acc) + 1)\n",
    "\n",
    "plt.plot(epochs, acc, 'bo', label=\"Training Accuracy\")\n",
    "plt.plot(epochs, val_acc, 'b', label=\"Validation Accuracy\")\n",
    "plt.title('Training and Validation Accuracy')\n",
    "plt.legend()\n",
    "\n",
    "plt.figure()\n",
    "\n",
    "plt.plot(epochs, loss, 'bo', label=\"Training Loss\")\n",
    "plt.plot(epochs, val_loss, 'b', label=\"Validation Loss\")\n",
    "plt.title('Training and Validation Loss')\n",
    "plt.legend()\n",
    "\n",
    "plt.show()"
   ],
   "metadata": {
    "collapsed": false,
    "pycharm": {
     "name": "#%%\n"
    }
   }
  },
  {
   "cell_type": "markdown",
   "source": [
    "### Test model"
   ],
   "metadata": {
    "collapsed": false,
    "pycharm": {
     "name": "#%% md\n"
    }
   }
  },
  {
   "cell_type": "code",
   "execution_count": 10,
   "outputs": [
    {
     "name": "stderr",
     "output_type": "stream",
     "text": [
      "/home/lawangin/miniconda3/envs/MnistNumberPrediction/lib/python3.10/site-packages/keras_preprocessing/image/utils.py:107: UserWarning: grayscale is deprecated. Please use color_mode = \"grayscale\"\n",
      "  warnings.warn('grayscale is deprecated. Please use '\n"
     ]
    },
    {
     "data": {
      "text/plain": "<Figure size 432x288 with 1 Axes>",
      "image/png": "[encoded data removed]"
     },
     "metadata": {
      "needs_background": "light"
     },
     "output_type": "display_data"
    },
    {
     "name": "stdout",
     "output_type": "stream",
     "text": [
      "Before expanding dims: (28, 28, 1)\n",
      "After expanding dims: (1, 28, 28, 1)\n",
      "predict: [5]\n"
     ]
    }
   ],
   "source": [
    "test_loss, test_acc = model.evaluate(test_images, test_labels)\n",
    "print(test_acc)\n",
    "\n",
    "img_width, img_height = 28, 28\n",
    "img = load_img('num5.jpg', True, target_size=(img_width, img_height))\n",
    "\n",
    "plt.imshow(img)\n",
    "plt.show()\n",
    "\n",
    "img_arr = img_to_array(img)\n",
    "print('Before expanding dims:', img_arr.shape)\n",
    "img_arr = np.expand_dims(img_arr, axis=0)\n",
    "print('After expanding dims:', img_arr.shape)\n",
    "\n",
    "pred_range = model.predict(img_arr).argmax(axis=1)\n",
    "print('predict:', pred_range)"
   ],
   "metadata": {
    "collapsed": false,
    "pycharm": {
     "name": "#%%\n"
    }
   }
  },
  {
   "cell_type": "markdown",
   "source": [],
   "metadata": {
    "collapsed": false,
    "pycharm": {
     "name": "#%% md\n"
    }
   }
  },
  {
   "cell_type": "markdown",
   "source": [],
   "metadata": {
    "collapsed": false,
    "pycharm": {
     "name": "#%% md\n"
    }
   }
  }
 ],
 "metadata": {
  "kernelspec": {
   "display_name": "Python 3",
   "language": "python",
   "name": "python3"
  },
  "language_info": {
   "codemirror_mode": {
    "name": "ipython",
    "version": 2
   },
   "file_extension": ".py",
   "mimetype": "text/x-python",
   "name": "python",
   "nbconvert_exporter": "python",
   "pygments_lexer": "ipython2",
   "version": "2.7.6"
  }
 },
 "nbformat": 4,
 "nbformat_minor": 0
}