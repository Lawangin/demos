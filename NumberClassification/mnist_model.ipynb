{
 "cells": [
  {
   "cell_type": "code",
   "execution_count": 12,
   "metadata": {
    "collapsed": true,
    "pycharm": {
     "name": "#%%\n"
    }
   },
   "outputs": [],
   "source": [
    "%matplotlib inline"
   ]
  },
  {
   "cell_type": "code",
   "execution_count": 13,
   "outputs": [],
   "source": [
    "import tensorflow as tf\n",
    "from tensorflow import keras\n",
    "from keras.utils.np_utils import to_categorical\n",
    "import numpy as np\n",
    "import matplotlib.pyplot as plt\n",
    "from keras.preprocessing.image import img_to_array, load_img"
   ],
   "metadata": {
    "collapsed": false,
    "pycharm": {
     "name": "#%%\n"
    }
   }
  },
  {
   "cell_type": "markdown",
   "source": [
    "### Load Data"
   ],
   "metadata": {
    "collapsed": false,
    "pycharm": {
     "name": "#%% md\n"
    }
   }
  },
  {
   "cell_type": "code",
   "execution_count": 14,
   "outputs": [
    {
     "data": {
      "text/plain": "<Figure size 432x288 with 1 Axes>",
      "image/png": "[encoded data removed]"
     },
     "metadata": {
      "needs_background": "light"
     },
     "output_type": "display_data"
    },
    {
     "name": "stdout",
     "output_type": "stream",
     "text": [
      "Classification: 0\n"
     ]
    }
   ],
   "source": [
    "mnist = keras.datasets.mnist\n",
    "(train_images, train_labels), (test_images, test_labels) = mnist.load_data()\n",
    "\n",
    "plt.imshow(train_images[1].reshape(28, 28, 1))\n",
    "plt.show()\n",
    "print('Classification:', train_labels[1])"
   ],
   "metadata": {
    "collapsed": false,
    "pycharm": {
     "name": "#%%\n"
    }
   }
  },
  {
   "cell_type": "markdown",
   "source": [
    "### Preprocess data"
   ],
   "metadata": {
    "collapsed": false,
    "pycharm": {
     "name": "#%% md\n"
    }
   }
  },
  {
   "cell_type": "code",
   "execution_count": 15,
   "outputs": [
    {
     "name": "stdout",
     "output_type": "stream",
     "text": [
      "(60000, 28, 28, 1)\n"
     ]
    }
   ],
   "source": [
    "train_images = train_images.reshape((60000, 28, 28, 1))\n",
    "train_images = train_images.astype('float32') / 255\n",
    "\n",
    "test_images = test_images.reshape((10000, 28, 28, 1))\n",
    "test_images = test_images.astype('float32') / 255\n",
    "print(train_images.shape)\n",
    "\n",
    "# one-hot encode labels\n",
    "# zero,\t  one,\t    two\n",
    "# 1,\t\t0,\t\t0\n",
    "# 0,\t\t1,\t\t0\n",
    "# 0,\t\t0,\t\t1\n",
    "train_labels = to_categorical(train_labels, num_classes=10)\n",
    "test_labels = to_categorical(test_labels, num_classes=10)"
   ],
   "metadata": {
    "collapsed": false,
    "pycharm": {
     "name": "#%%\n"
    }
   }
  },
  {
   "cell_type": "markdown",
   "source": [
    "### Create Model"
   ],
   "metadata": {
    "collapsed": false,
    "pycharm": {
     "name": "#%% md\n"
    }
   }
  },
  {
   "cell_type": "code",
   "execution_count": 16,
   "outputs": [],
   "source": [
    "# Model with three layers. input flattened layer, 25 nodes hidden layer, and 10 nodes output layer\n",
    "model = keras.models.Sequential()\n",
    "model.add(keras.layers.Flatten(input_shape=(28, 28)))\n",
    "model.add(keras.layers.Dense(25, activation='relu'))\n",
    "model.add(keras.layers.Dense(10, activation='softmax'))"
   ],
   "metadata": {
    "collapsed": false,
    "pycharm": {
     "name": "#%%\n"
    }
   }
  },
  {
   "cell_type": "markdown",
   "source": [
    "### Train Model"
   ],
   "metadata": {
    "collapsed": false,
    "pycharm": {
     "name": "#%% md\n"
    }
   }
  },
  {
   "cell_type": "code",
   "execution_count": 17,
   "outputs": [
    {
     "name": "stdout",
     "output_type": "stream",
     "text": [
      "Epoch 1/20\n",
      "3000/3000 [==============================] - 4s 1ms/step - loss: 0.3826 - acc: 0.8915 - val_loss: 0.2437 - val_acc: 0.9292\n",
      "Epoch 2/20\n",
      "3000/3000 [==============================] - 4s 1ms/step - loss: 0.2227 - acc: 0.9350 - val_loss: 0.1903 - val_acc: 0.9462\n",
      "Epoch 3/20\n",
      "3000/3000 [==============================] - 4s 1ms/step - loss: 0.1762 - acc: 0.9490 - val_loss: 0.1629 - val_acc: 0.9517\n",
      "Epoch 4/20\n",
      "3000/3000 [==============================] - 4s 1ms/step - loss: 0.1488 - acc: 0.9555 - val_loss: 0.1555 - val_acc: 0.9523\n",
      "Epoch 5/20\n",
      "3000/3000 [==============================] - 4s 1ms/step - loss: 0.1291 - acc: 0.9621 - val_loss: 0.1540 - val_acc: 0.9524\n",
      "Epoch 6/20\n",
      "3000/3000 [==============================] - 4s 1ms/step - loss: 0.1179 - acc: 0.9643 - val_loss: 0.1330 - val_acc: 0.9617\n",
      "Epoch 7/20\n",
      "3000/3000 [==============================] - 4s 1ms/step - loss: 0.1072 - acc: 0.9675 - val_loss: 0.1287 - val_acc: 0.9637\n",
      "Epoch 8/20\n",
      "3000/3000 [==============================] - 4s 1ms/step - loss: 0.0978 - acc: 0.9705 - val_loss: 0.1313 - val_acc: 0.9608\n",
      "Epoch 9/20\n",
      "3000/3000 [==============================] - 5s 2ms/step - loss: 0.0902 - acc: 0.9727 - val_loss: 0.1424 - val_acc: 0.9577\n",
      "Epoch 10/20\n",
      "3000/3000 [==============================] - 4s 1ms/step - loss: 0.0837 - acc: 0.9746 - val_loss: 0.1388 - val_acc: 0.9601\n",
      "Epoch 11/20\n",
      "3000/3000 [==============================] - 4s 1ms/step - loss: 0.0786 - acc: 0.9759 - val_loss: 0.1359 - val_acc: 0.9589\n",
      "Epoch 12/20\n",
      "3000/3000 [==============================] - 4s 1ms/step - loss: 0.0742 - acc: 0.9772 - val_loss: 0.1345 - val_acc: 0.9629\n",
      "Epoch 13/20\n",
      "3000/3000 [==============================] - 4s 1ms/step - loss: 0.0706 - acc: 0.9789 - val_loss: 0.1443 - val_acc: 0.9602\n",
      "Epoch 14/20\n",
      "3000/3000 [==============================] - 4s 1ms/step - loss: 0.0674 - acc: 0.9787 - val_loss: 0.1391 - val_acc: 0.9612\n",
      "Epoch 15/20\n",
      "3000/3000 [==============================] - 4s 1ms/step - loss: 0.0624 - acc: 0.9803 - val_loss: 0.1439 - val_acc: 0.9617\n",
      "Epoch 16/20\n",
      "3000/3000 [==============================] - 4s 1ms/step - loss: 0.0602 - acc: 0.9804 - val_loss: 0.1415 - val_acc: 0.9622\n",
      "Epoch 17/20\n",
      "3000/3000 [==============================] - 4s 1ms/step - loss: 0.0571 - acc: 0.9819 - val_loss: 0.1412 - val_acc: 0.9608\n",
      "Epoch 18/20\n",
      "3000/3000 [==============================] - 5s 2ms/step - loss: 0.0550 - acc: 0.9819 - val_loss: 0.1490 - val_acc: 0.9613\n",
      "Epoch 19/20\n",
      "3000/3000 [==============================] - 4s 1ms/step - loss: 0.0519 - acc: 0.9837 - val_loss: 0.1522 - val_acc: 0.9588\n",
      "Epoch 20/20\n",
      "3000/3000 [==============================] - 4s 1ms/step - loss: 0.0490 - acc: 0.9844 - val_loss: 0.1499 - val_acc: 0.9617\n"
     ]
    }
   ],
   "source": [
    "EPOCHS = 20\n",
    "BATCH_SIZE = 16\n",
    "\n",
    "# loss function is the same as error function. Mean squared error is a common one, but categorical crossentropy is a good one here as we are classifying into 10 bins\n",
    "# optimizers are used to determine the learning rate\n",
    "# we are only interested in accuracy but more metrics can be followed\n",
    "model.compile(loss='categorical_crossentropy', optimizer='adam', metrics=['acc'])\n",
    "\n",
    "# validation is important to let us know if the training is effective and when it is overfitting\n",
    "history = model.fit(train_images, train_labels, epochs=EPOCHS, batch_size=BATCH_SIZE, validation_split=0.2,\n",
    "                    verbose=1, shuffle=True)\n",
    "\n",
    "# save the model for reuse later\n",
    "model.save('my_model.h5')"
   ],
   "metadata": {
    "collapsed": false,
    "pycharm": {
     "name": "#%%\n"
    }
   }
  },
  {
   "cell_type": "markdown",
   "source": [
    "### Plot results"
   ],
   "metadata": {
    "collapsed": false,
    "pycharm": {
     "name": "#%% md\n"
    }
   }
  },
  {
   "cell_type": "code",
   "execution_count": 18,
   "outputs": [
    {
     "data": {
      "text/plain": "<Figure size 432x288 with 1 Axes>",
      "image/png": "[encoded data removed]"
     },
     "metadata": {
      "needs_background": "light"
     },
     "output_type": "display_data"
    },
    {
     "data": {
      "text/plain": "<Figure size 432x288 with 1 Axes>",
      "image/png": "[encoded data removed]"
     },
     "metadata": {
      "needs_background": "light"
     },
     "output_type": "display_data"
    }
   ],
   "source": [
    "acc = history.history['acc']\n",
    "val_acc = history.history['val_acc']\n",
    "loss = history.history['loss']\n",
    "val_loss = history.history['val_loss']\n",
    "\n",
    "epochs = range(1, len(acc) + 1)\n",
    "\n",
    "plt.plot(epochs, acc, 'bo', label=\"Training Accuracy\")\n",
    "plt.plot(epochs, val_acc, 'b', label=\"Validation Accuracy\")\n",
    "plt.title('Training and Validation Accuracy')\n",
    "plt.legend()\n",
    "\n",
    "plt.figure()\n",
    "\n",
    "plt.plot(epochs, loss, 'bo', label=\"Training Loss\")\n",
    "plt.plot(epochs, val_loss, 'b', label=\"Validation Loss\")\n",
    "plt.title('Training and Validation Loss')\n",
    "plt.legend()\n",
    "\n",
    "plt.show()"
   ],
   "metadata": {
    "collapsed": false,
    "pycharm": {
     "name": "#%%\n"
    }
   }
  },
  {
   "cell_type": "markdown",
   "source": [
    "### Test model"
   ],
   "metadata": {
    "collapsed": false,
    "pycharm": {
     "name": "#%% md\n"
    }
   }
  },
  {
   "cell_type": "code",
   "execution_count": 19,
   "outputs": [
    {
     "name": "stdout",
     "output_type": "stream",
     "text": [
      "313/313 [==============================] - 0s 1ms/step - loss: 0.1414 - acc: 0.9634\n",
      "0.9634000062942505\n"
     ]
    },
    {
     "name": "stderr",
     "output_type": "stream",
     "text": [
      "/home/lawangin/miniconda3/envs/MnistNumberPrediction/lib/python3.10/site-packages/keras_preprocessing/image/utils.py:107: UserWarning: grayscale is deprecated. Please use color_mode = \"grayscale\"\n",
      "  warnings.warn('grayscale is deprecated. Please use '\n"
     ]
    },
    {
     "data": {
      "text/plain": "<Figure size 432x288 with 1 Axes>",
      "image/png": "[encoded data removed]"
     },
     "metadata": {
      "needs_background": "light"
     },
     "output_type": "display_data"
    },
    {
     "name": "stdout",
     "output_type": "stream",
     "text": [
      "Before expanding dims: (28, 28, 1)\n",
      "After expanding dims: (1, 28, 28, 1)\n",
      "predict: [5]\n"
     ]
    }
   ],
   "source": [
    "test_loss, test_acc = model.evaluate(test_images, test_labels)\n",
    "print(test_acc)\n",
    "\n",
    "img_width, img_height = 28, 28\n",
    "img = load_img('num5.jpg', True, target_size=(img_width, img_height))\n",
    "\n",
    "plt.imshow(img)\n",
    "plt.show()\n",
    "\n",
    "img_arr = img_to_array(img)\n",
    "print('Before expanding dims:', img_arr.shape)\n",
    "img_arr = np.expand_dims(img_arr, axis=0)\n",
    "print('After expanding dims:', img_arr.shape)\n",
    "\n",
    "pred_range = model.predict(img_arr).argmax(axis=1)\n",
    "print('predict:', pred_range)"
   ],
   "metadata": {
    "collapsed": false,
    "pycharm": {
     "name": "#%%\n"
    }
   }
  },
  {
   "cell_type": "markdown",
   "source": [],
   "metadata": {
    "collapsed": false,
    "pycharm": {
     "name": "#%% md\n"
    }
   }
  },
  {
   "cell_type": "markdown",
   "source": [],
   "metadata": {
    "collapsed": false,
    "pycharm": {
     "name": "#%% md\n"
    }
   }
  }
 ],
 "metadata": {
  "kernelspec": {
   "display_name": "Python 3",
   "language": "python",
   "name": "python3"
  },
  "language_info": {
   "codemirror_mode": {
    "name": "ipython",
    "version": 2
   },
   "file_extension": ".py",
   "mimetype": "text/x-python",
   "name": "python",
   "nbconvert_exporter": "python",
   "pygments_lexer": "ipython2",
   "version": "2.7.6"
  }
 },
 "nbformat": 4,
 "nbformat_minor": 0
}